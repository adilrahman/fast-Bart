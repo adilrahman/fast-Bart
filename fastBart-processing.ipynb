{
 "cells": [
  {
   "cell_type": "markdown",
   "id": "8237f1dd-3cbe-4db4-bac7-26632274dcb5",
   "metadata": {},
   "source": [
    "# Fast BART"
   ]
  },
  {
   "cell_type": "markdown",
   "id": "cb78de51-2ac7-4301-ad99-be4da85d8a99",
   "metadata": {},
   "source": [
    "## Imports"
   ]
  },
  {
   "cell_type": "code",
   "execution_count": 42,
   "id": "be3708c2-1a64-4b84-8611-84f8407ff076",
   "metadata": {},
   "outputs": [],
   "source": [
    "import os\n",
    "import numpy as np\n",
    "from matplotlib import pyplot as plt\n",
    "from time import perf_counter as pc"
   ]
  },
  {
   "cell_type": "code",
   "execution_count": 43,
   "id": "0f223b83-0ea0-4942-a3d1-00023b96d4ad",
   "metadata": {},
   "outputs": [],
   "source": [
    "from fastBart import (OnnxBart, get_onnx_runtime_sessions,\n",
    "                    generate_onnx_representation, quantize,get_onnx_model,export_and_get_onnx_model)\n",
    "from fastBart.model_testing_tools import speed_test"
   ]
  },
  {
   "cell_type": "code",
   "execution_count": 44,
   "id": "41788b0f-7b27-497c-8279-99a68ece7474",
   "metadata": {},
   "outputs": [],
   "source": [
    "from transformers import AutoTokenizer, BartForConditionalGeneration"
   ]
  },
  {
   "cell_type": "markdown",
   "id": "8b59f8d5-b1ab-4e6d-b0af-c9321de618d8",
   "metadata": {},
   "source": [
    "## Constants"
   ]
  },
  {
   "cell_type": "code",
   "execution_count": 4,
   "id": "ab87c116-4378-40a0-bd07-7f22af319a30",
   "metadata": {},
   "outputs": [],
   "source": [
    "model_name = 'facebook/bart-base'\n",
    "custom_output_path = \"./models-bart/\""
   ]
  },
  {
   "cell_type": "markdown",
   "id": "40f8fcc7-bd4d-45e7-9984-88a5336ddcdc",
   "metadata": {},
   "source": [
    "## Step-wise Pytorch to Onnx with Quantization"
   ]
  },
  {
   "cell_type": "markdown",
   "id": "6b7245d4",
   "metadata": {},
   "source": [
    "### 1. Coverting model from pytorch to Onnx"
   ]
  },
  {
   "cell_type": "code",
   "execution_count": 5,
   "id": "7c843501",
   "metadata": {},
   "outputs": [
    {
     "name": "stderr",
     "output_type": "stream",
     "text": [
      "Exporting to onnx... |################################| 3/3"
     ]
    },
    {
     "name": "stdout",
     "output_type": "stream",
     "text": [
      "CPU times: user 18.6 s, sys: 8.33 s, total: 27 s\n",
      "Wall time: 27.6 s\n"
     ]
    },
    {
     "name": "stderr",
     "output_type": "stream",
     "text": [
      "\n",
      "\u001b[?25h"
     ]
    }
   ],
   "source": [
    "%%time\n",
    "onnx_model_paths = generate_onnx_representation(model_name)"
   ]
  },
  {
   "cell_type": "markdown",
   "id": "879b2b4a-7923-45d8-98cf-7ae4e7412335",
   "metadata": {},
   "source": [
    "### 2. Quantize the ONNX model"
   ]
  },
  {
   "cell_type": "code",
   "execution_count": 6,
   "id": "a65a22f8-c5d0-4f35-af59-c1c6b8ffe1f2",
   "metadata": {},
   "outputs": [
    {
     "name": "stderr",
     "output_type": "stream",
     "text": [
      "Quantizing... |################################| 3/3"
     ]
    },
    {
     "name": "stdout",
     "output_type": "stream",
     "text": [
      "CPU times: user 9min 15s, sys: 6min 13s, total: 15min 29s\n",
      "Wall time: 15min 37s\n"
     ]
    },
    {
     "name": "stderr",
     "output_type": "stream",
     "text": [
      "\n",
      "\u001b[?25h"
     ]
    }
   ],
   "source": [
    "%%time\n",
    "quant_model_paths = quantize(onnx_model_paths)"
   ]
  },
  {
   "cell_type": "markdown",
   "id": "6c982103-4cf7-433c-bbb5-aab7d7efcc37",
   "metadata": {},
   "source": [
    "    Quantization for the decoder, and init-decoder are a bit slow. It can take a few minutes to complete."
   ]
  },
  {
   "cell_type": "markdown",
   "id": "a1ea8f82-268a-4075-8fe8-99f229f874d4",
   "metadata": {},
   "source": [
    "### 3. Setup Onnx Runtime session"
   ]
  },
  {
   "cell_type": "code",
   "execution_count": 7,
   "id": "f45a6f84-b3c1-49a5-8a9c-cf8bd133c594",
   "metadata": {},
   "outputs": [],
   "source": [
    "model_sessions = get_onnx_runtime_sessions(quant_model_paths)"
   ]
  },
  {
   "cell_type": "markdown",
   "id": "9430b452-5948-470f-9266-5545067537d4",
   "metadata": {},
   "source": [
    "### 4. Load the model"
   ]
  },
  {
   "cell_type": "code",
   "execution_count": 8,
   "id": "60abf79e-89da-4244-a07b-e78402a09488",
   "metadata": {},
   "outputs": [],
   "source": [
    "model = OnnxBart(model_name, model_sessions)"
   ]
  },
  {
   "cell_type": "markdown",
   "id": "4f7202b3-d082-4879-b0a1-b09c4d4d74a0",
   "metadata": {},
   "source": [
    "## Unified Pipeline"
   ]
  },
  {
   "cell_type": "code",
   "execution_count": 9,
   "id": "3a200897-9b93-4f6d-8675-2f66bd756333",
   "metadata": {},
   "outputs": [],
   "source": [
    "# model = export_and_get_onnx_model(model_name,custom_output_path)"
   ]
  },
  {
   "cell_type": "markdown",
   "id": "5679c29e-6d9e-4857-a223-09822c6317e2",
   "metadata": {},
   "source": [
    "## Loading Pre-converted models"
   ]
  },
  {
   "cell_type": "code",
   "execution_count": null,
   "id": "08e246fc-91f9-4a94-bab7-935f9a3e355c",
   "metadata": {},
   "outputs": [],
   "source": [
    "# name = 'bart-base'\n",
    "\n",
    "# quant_model_paths = [os.path.join(custom_output_path,name+\"-\"+x) for x in ['encoder-quantized.onnx','decoder-quantized.onnx','init-decoder-quantized.onnx']]\n",
    "# quant_model_paths = tuple(quant_model_paths)\n",
    "# quant_model_paths"
   ]
  },
  {
   "cell_type": "code",
   "execution_count": null,
   "id": "1e7e9d7e-db1f-4be8-a263-a68127b057fb",
   "metadata": {},
   "outputs": [],
   "source": [
    "# model_sessions = get_onnx_runtime_sessions(quant_model_paths)\n",
    "# model = OnnxBart(model_name, model_sessions)"
   ]
  },
  {
   "cell_type": "markdown",
   "id": "f3a10479-96e3-4a69-9a61-8bf51fdb5c7d",
   "metadata": {},
   "source": [
    "## Model Performance"
   ]
  },
  {
   "cell_type": "code",
   "execution_count": 10,
   "id": "aaa7f5d7-5d00-4765-b1d8-4a8e3557da1e",
   "metadata": {},
   "outputs": [],
   "source": [
    "tokenizer = AutoTokenizer.from_pretrained(model_name)"
   ]
  },
  {
   "cell_type": "code",
   "execution_count": 11,
   "id": "de2b9f90-7fbe-4364-863f-a60e1f79a956",
   "metadata": {},
   "outputs": [],
   "source": [
    "pytorch_model = BartForConditionalGeneration.from_pretrained(model_name)"
   ]
  },
  {
   "cell_type": "markdown",
   "id": "fb8d8a7e-868b-4fa3-94c6-8312c157b675",
   "metadata": {},
   "source": [
    "## Processing"
   ]
  },
  {
   "cell_type": "markdown",
   "id": "d6ecd1e2-2191-49db-9fbc-2135b0cbf6b7",
   "metadata": {},
   "source": [
    "### Constants"
   ]
  },
  {
   "cell_type": "code",
   "execution_count": 20,
   "id": "fab78072-1abb-42c5-9cd5-ba013ad545ab",
   "metadata": {},
   "outputs": [],
   "source": [
    "max_input_length = 256\n",
    "max_target_length = 128"
   ]
  },
  {
   "cell_type": "markdown",
   "id": "4d180f3a-318d-4a15-9747-7ebd7d8ea931",
   "metadata": {},
   "source": [
    "### Predictions"
   ]
  },
  {
   "cell_type": "code",
   "execution_count": 21,
   "id": "63d32be1-a2e5-4206-bdf1-958f53448da6",
   "metadata": {},
   "outputs": [],
   "source": [
    "text = \"\"\"Since being shared on Reddit, the 21-second video has garnered more than 35,000 upvotes. People also filled the comment section with adorable comments.\n",
    "A Reddit user said that he liked the little cat staring at the mama dog for a moment. Another liked the calmness and patience of the mama dog.\n",
    "“This is soooo cute,” commented a third Reddit user. Many users also added that humans should learn kindness from these animals.\n",
    "Well, this is not the first time that a kitten was feeding on a nursing dog.Last year, a similar heartwarming video had surfaced \\\n",
    "from a remote village in Nigeria that showed a little feline feeding on milk from a mama dog. The clip, which had gone viral, has \\\n",
    "so far accumulated over 1 million views. Twitter users showered love for the dog and the little kitten.The 32-second clip was shared \\\n",
    "by Reuters on its official Twitter handle with the caption, “It's a most unusual sight: a kitten was spotted feeding on milk from a nursing dog in a remote village in Nigeria.”\n",
    "\"\"\""
   ]
  },
  {
   "cell_type": "code",
   "execution_count": 23,
   "id": "a0c431f4-7b2e-49b1-a110-7399d4fb5b87",
   "metadata": {},
   "outputs": [
    {
     "name": "stdout",
     "output_type": "stream",
     "text": [
      "INPUT:\n",
      " Since being shared on Reddit, the 21-second video has garnered more than 35,000 upvotes. People also filled the comment section with adorable comments.\n",
      "A Reddit user said that he liked the little cat staring at the mama dog for a moment. Another liked the calmness and patience of the mama dog.\n",
      "“This is soooo cute,” commented a third Reddit user. Many users also added that humans should learn kindness from these animals.\n",
      "Well, this is not the first time that a kitten was feeding on a nursing dog.Last year, a similar heartwarming video had surfaced from a remote village in Nigeria that showed a little feline feeding on milk from a mama dog. The clip, which had gone viral, has so far accumulated over 1 million views. Twitter users showered love for the dog and the little kitten.The 32-second clip was shared by Reuters on its official Twitter handle with the caption, “It's a most unusual sight: a kitten was spotted feeding on milk from a nursing dog in a remote village in Nigeria.”\n",
      " \n",
      "\n",
      "SUMMARY:\n",
      " Since being shared on Reddit, the 21-second video has garnered more than 35,000 upvotes. People also filled the comment section with adorable comments.“This is so cute,” commented one user.A Reddit user said that he liked the little cat staring at the mama dog for a moment. Another liked the calmness and patience of the mamas dog. Another said that the kitten was a good example of kindness from a nursing dog.”“It’s soooo cute” said a third Reddit user. Many users also added that humans should learn kindness from these animals. \n",
      "\n",
      "CPU times: user 28.7 s, sys: 1.65 s, total: 30.3 s\n",
      "Wall time: 5.11 s\n"
     ]
    }
   ],
   "source": [
    "%%time\n",
    "\n",
    "inputs = tokenizer(text, max_length=max_input_length, return_tensors='pt')\n",
    "\n",
    "# Generate summaries\n",
    "output_sequences = model.generate(input_ids=inputs['input_ids'],max_length=max_target_length,num_beams=3)\n",
    "generated_text = tokenizer.batch_decode(output_sequences, skip_special_tokens=True)[0]\n",
    "\n",
    "print('INPUT:\\n', text,'\\n')\n",
    "print('SUMMARY:\\n', generated_text,'\\n')"
   ]
  },
  {
   "cell_type": "markdown",
   "id": "88961d1d-84ed-491a-8bba-12286109fceb",
   "metadata": {},
   "source": [
    "### Onnx vs Pytorch"
   ]
  },
  {
   "cell_type": "markdown",
   "id": "6b34299f-a48e-4104-a4d2-adec69ca4479",
   "metadata": {},
   "source": [
    "#### Size Comparison"
   ]
  },
  {
   "cell_type": "markdown",
   "id": "e22d9490-71ac-47df-a8c7-0b3fe3356507",
   "metadata": {
    "tags": []
   },
   "source": [
    "Pytorch-model size : 532M"
   ]
  },
  {
   "cell_type": "code",
   "execution_count": 41,
   "id": "fb459e2e-8fdc-40c9-8d50-76019f5b9d45",
   "metadata": {},
   "outputs": [
    {
     "name": "stdout",
     "output_type": "stream",
     "text": [
      "123M\tbart-base-decoder-quantized.onnx\n",
      "487M\tbart-base-decoder.onnx\n",
      " 79M\tbart-base-encoder-quantized.onnx\n",
      "313M\tbart-base-encoder.onnx\n",
      "130M\tbart-base-init-decoder-quantized.onnx\n",
      "514M\tbart-base-init-decoder.onnx\n"
     ]
    }
   ],
   "source": [
    "!cd \"$custom_output_path\";du -sh *"
   ]
  },
  {
   "cell_type": "markdown",
   "id": "057d1259-5667-4d7b-891e-1f23b068498d",
   "metadata": {},
   "source": [
    "    Pytorch file size        : 532M\n",
    "    Onnx file size           : 1314M\n",
    "    Quantized-Onnx file size : 332M"
   ]
  },
  {
   "cell_type": "markdown",
   "id": "4fa3369f-4044-4d69-90f6-0989589e8496",
   "metadata": {},
   "source": [
    "#### Performance Comparison"
   ]
  },
  {
   "cell_type": "code",
   "execution_count": 45,
   "id": "fa176673-9a0f-4aca-b498-bf28670b9812",
   "metadata": {
    "tags": []
   },
   "outputs": [
    {
     "name": "stdout",
     "output_type": "stream",
     "text": [
      "seqL : 32, onnx-0.34127084000010655, pt-0.9822839859998567 .. X faster 2.8783120937011497\n",
      "seqL : 64, onnx-0.7009542420000798, pt-1.952082222000172 .. X faster 2.784892515137885\n",
      "seqL : 96, onnx-1.1063281910001024, pt-2.8521081569997477 .. X faster 2.5779946495094634\n",
      "seqL : 128, onnx-1.596302587000082, pt-3.8603175560001546 .. X faster 2.418286850774838\n",
      "seqL : 160, onnx-2.1618258519997653, pt-4.916804455000147 .. X faster 2.274375824700185\n",
      "seqL : 192, onnx-2.7556150200002776, pt-5.969720664999841 .. X faster 2.1663841362714154\n",
      "seqL : 224, onnx-3.440460626999993, pt-7.074772848000066 .. X faster 2.0563446628276383\n",
      "seqL : 256, onnx-4.293022999000186, pt-8.349490481999965 .. X faster 1.9448976825757747\n",
      "seqL : 288, onnx-5.5322495119999076, pt-9.785055285999988 .. X faster 1.768729928896987\n",
      "seqL : 320, onnx-6.196998977000021, pt-10.476615106999816 .. X faster 1.690594938918574\n",
      "seqL : 352, onnx-7.2578672099998585, pt-11.617871215999912 .. X faster 1.600727993478974\n",
      "seqL : 384, onnx-8.904296129000159, pt-12.939387629000066 .. X faster 1.453162320922608\n",
      "seqL : 416, onnx-9.557195871999738, pt-14.164258157999939 .. X faster 1.4820516757951747\n",
      "seqL : 448, onnx-10.973698632999913, pt-15.47043141200038 .. X faster 1.4097736715201903\n",
      "seqL : 480, onnx-12.600219215999914, pt-16.85491682899965 .. X faster 1.3376685389407406\n",
      "seqL : 512, onnx-13.991177289000007, pt-18.26454338600024 .. X faster 1.3054329173828707\n",
      "beam no.- 1 onnx-5.713092699750007 pt-9.095666212124996 X ratio-1.592073976416137\n"
     ]
    },
    {
     "data": {
      "image/png": "[encoded data removed]",
      "text/plain": [
       "<Figure size 432x288 with 1 Axes>"
      ]
     },
     "metadata": {
      "needs_background": "light"
     },
     "output_type": "display_data"
    },
    {
     "name": "stdout",
     "output_type": "stream",
     "text": [
      "seqL : 32, onnx-0.46369721000019126, pt-1.6887113879997742 .. X faster 3.641840734817183\n",
      "seqL : 64, onnx-1.1263507030002984, pt-3.39527311799975 .. X faster 3.0144013840055734\n",
      "seqL : 96, onnx-1.7673246149997794, pt-5.328860513000109 .. X faster 3.0152132029241123\n",
      "seqL : 128, onnx-2.800090538999939, pt-7.3397087390003435 .. X faster 2.6212397909182408\n",
      "seqL : 160, onnx-3.9450914770000054, pt-9.245858105000025 .. X faster 2.3436359229953574\n",
      "seqL : 192, onnx-5.419562043000042, pt-11.42960538000034 .. X faster 2.108953692072393\n",
      "seqL : 224, onnx-6.6991191440001785, pt-13.6385407570001 .. X faster 2.035870756114998\n",
      "seqL : 256, onnx-8.399791871999696, pt-15.509736858999986 .. X faster 1.84644299470097\n",
      "seqL : 288, onnx-10.481821465999928, pt-17.773101254000267 .. X faster 1.6956119040618267\n",
      "seqL : 320, onnx-12.287066529000185, pt-20.043529196000236 .. X faster 1.631270502905888\n",
      "seqL : 352, onnx-14.734283799999957, pt-22.852507305000017 .. X faster 1.5509751010089872\n",
      "seqL : 384, onnx-17.178268299999672, pt-25.427335542000037 .. X faster 1.4802036560344398\n",
      "seqL : 416, onnx-19.814676516999953, pt-27.985773384999902 .. X faster 1.4123759911492664\n",
      "seqL : 448, onnx-22.823442041999897, pt-30.9213792190003 .. X faster 1.354807884021109\n",
      "seqL : 480, onnx-26.69881156700012, pt-33.88649887500014 .. X faster 1.269213754700754\n",
      "seqL : 512, onnx-29.341334633000315, pt-36.76601250500016 .. X faster 1.2530449948806788\n",
      "beam no.- 2 onnx-11.49879577856251 pt-17.702027008750093 X ratio-1.5394679016521384\n"
     ]
    },
    {
     "data": {
      "image/png": "[encoded data removed]",
      "text/plain": [
       "<Figure size 432x288 with 1 Axes>"
      ]
     },
     "metadata": {
      "needs_background": "light"
     },
     "output_type": "display_data"
    },
    {
     "name": "stdout",
     "output_type": "stream",
     "text": [
      "seqL : 32, onnx-0.5648669500001233, pt-1.7262365869996756 .. X faster 3.0560056434516105\n",
      "seqL : 64, onnx-1.2210942169999726, pt-3.468513499999972 .. X faster 2.8404962137332355\n",
      "seqL : 96, onnx-2.145441765999749, pt-5.421016038000289 .. X faster 2.5267598141840795\n",
      "seqL : 128, onnx-3.4464136199999302, pt-7.514903835000041 .. X faster 2.1804996914445205\n",
      "seqL : 160, onnx-4.936816227000236, pt-9.63552350000009 .. X faster 1.9517687223806053\n",
      "seqL : 192, onnx-6.749549762999777, pt-11.92293889099983 .. X faster 1.766479144484563\n",
      "seqL : 224, onnx-8.886433143999966, pt-14.351342556999953 .. X faster 1.614972208133906\n",
      "seqL : 256, onnx-11.37731974799999, pt-16.808688419999726 .. X faster 1.4773856050722765\n",
      "seqL : 288, onnx-14.747921714000313, pt-19.68354844500027 .. X faster 1.3346659161008787\n",
      "seqL : 320, onnx-17.89758284399977, pt-22.42313549299979 .. X faster 1.2528583154745518\n",
      "seqL : 352, onnx-21.13018205799972, pt-25.087827348000246 .. X faster 1.187298210641881\n",
      "seqL : 384, onnx-23.04734937000012, pt-27.563978872000007 .. X faster 1.19597175490727\n",
      "seqL : 416, onnx-26.630901414000164, pt-30.77805712700001 .. X faster 1.1557272000871754\n",
      "seqL : 448, onnx-30.844119913999748, pt-34.127019970999754 .. X faster 1.106435199517881\n",
      "seqL : 480, onnx-35.01199873299993, pt-37.45344360700028 .. X faster 1.0697316623543465\n",
      "seqL : 512, onnx-40.42947846700008, pt-46.219831998000245 .. X faster 1.1432210790383173\n",
      "beam no.- 3 onnx-15.566716871812474 pt-19.63662538681251 X ratio-1.2614493825843038\n"
     ]
    },
    {
     "data": {
      "image/png": "[encoded data removed]",
      "text/plain": [
       "<Figure size 432x288 with 1 Axes>"
      ]
     },
     "metadata": {
      "needs_background": "light"
     },
     "output_type": "display_data"
    },
    {
     "name": "stdout",
     "output_type": "stream",
     "text": [
      "seqL : 32, onnx-0.5554251790003946, pt-1.802158953000344 .. X faster 3.2446475621499755\n",
      "seqL : 64, onnx-1.391706391000298, pt-3.7379983800001355 .. X faster 2.6859101921012414\n",
      "seqL : 96, onnx-2.6759656979998, pt-5.863696394999806 .. X faster 2.1912449772367166\n",
      "seqL : 128, onnx-4.512203946000227, pt-8.16305226500026 .. X faster 1.8091053424649104\n",
      "seqL : 160, onnx-6.370190445999924, pt-10.750313889000154 .. X faster 1.6875969376630913\n",
      "seqL : 192, onnx-8.917611648000275, pt-13.166227227000036 .. X faster 1.4764297601984595\n",
      "seqL : 224, onnx-11.630706315000225, pt-15.981335811999998 .. X faster 1.3740640833986777\n",
      "seqL : 256, onnx-14.849336220999703, pt-18.860539195 .. X faster 1.2701267527586666\n",
      "seqL : 288, onnx-18.77789818500014, pt-22.311234518999754 .. X faster 1.1881646337193401\n",
      "seqL : 320, onnx-23.112617804000365, pt-25.42247272700024 .. X faster 1.0999391303307964\n",
      "seqL : 352, onnx-27.599169621999863, pt-28.96336316299994 .. X faster 1.0494287893325838\n",
      "seqL : 384, onnx-33.159518705999744, pt-32.668760531000316 .. X faster 0.9852000814803554\n",
      "seqL : 416, onnx-39.02105101999996, pt-39.20939375399985 .. X faster 1.004826695567563\n",
      "seqL : 448, onnx-44.57874584699994, pt-41.0558594260001 .. X faster 0.9209738552741963\n",
      "seqL : 480, onnx-50.4812530879999, pt-45.206930265999745 .. X faster 0.8955191779252021\n",
      "seqL : 512, onnx-56.9099458630003, pt-49.88056684899993 .. X faster 0.8764824160802711\n",
      "beam no.- 4 onnx-21.533959123687566 pt-22.690243959437538 X ratio-1.0536958777115002\n"
     ]
    },
    {
     "data": {
      "image/png": "[encoded data removed]",
      "text/plain": [
       "<Figure size 432x288 with 1 Axes>"
      ]
     },
     "metadata": {
      "needs_background": "light"
     },
     "output_type": "display_data"
    },
    {
     "data": {
      "text/plain": [
       "(array([[ 0.34127084,  0.70095424,  1.10632819,  1.59630259,  2.16182585,\n",
       "          2.75561502,  3.44046063,  4.293023  ,  5.53224951,  6.19699898,\n",
       "          7.25786721,  8.90429613,  9.55719587, 10.97369863, 12.60021922,\n",
       "         13.99117729],\n",
       "        [ 0.46369721,  1.1263507 ,  1.76732461,  2.80009054,  3.94509148,\n",
       "          5.41956204,  6.69911914,  8.39979187, 10.48182147, 12.28706653,\n",
       "         14.7342838 , 17.1782683 , 19.81467652, 22.82344204, 26.69881157,\n",
       "         29.34133463],\n",
       "        [ 0.56486695,  1.22109422,  2.14544177,  3.44641362,  4.93681623,\n",
       "          6.74954976,  8.88643314, 11.37731975, 14.74792171, 17.89758284,\n",
       "         21.13018206, 23.04734937, 26.63090141, 30.84411991, 35.01199873,\n",
       "         40.42947847],\n",
       "        [ 0.55542518,  1.39170639,  2.6759657 ,  4.51220395,  6.37019045,\n",
       "          8.91761165, 11.63070632, 14.84933622, 18.77789819, 23.1126178 ,\n",
       "         27.59916962, 33.15951871, 39.02105102, 44.57874585, 50.48125309,\n",
       "         56.90994586]]),\n",
       " array([[ 0.98228399,  1.95208222,  2.85210816,  3.86031756,  4.91680446,\n",
       "          5.96972066,  7.07477285,  8.34949048,  9.78505529, 10.47661511,\n",
       "         11.61787122, 12.93938763, 14.16425816, 15.47043141, 16.85491683,\n",
       "         18.26454339],\n",
       "        [ 1.68871139,  3.39527312,  5.32886051,  7.33970874,  9.24585811,\n",
       "         11.42960538, 13.63854076, 15.50973686, 17.77310125, 20.0435292 ,\n",
       "         22.85250731, 25.42733554, 27.98577338, 30.92137922, 33.88649888,\n",
       "         36.76601251],\n",
       "        [ 1.72623659,  3.4685135 ,  5.42101604,  7.51490384,  9.6355235 ,\n",
       "         11.92293889, 14.35134256, 16.80868842, 19.68354845, 22.42313549,\n",
       "         25.08782735, 27.56397887, 30.77805713, 34.12701997, 37.45344361,\n",
       "         46.219832  ],\n",
       "        [ 1.80215895,  3.73799838,  5.86369639,  8.16305227, 10.75031389,\n",
       "         13.16622723, 15.98133581, 18.8605392 , 22.31123452, 25.42247273,\n",
       "         28.96336316, 32.66876053, 39.20939375, 41.05585943, 45.20693027,\n",
       "         49.88056685]]))"
      ]
     },
     "execution_count": 45,
     "metadata": {},
     "output_type": "execute_result"
    }
   ],
   "source": [
    "speed_test(model, pytorch_model, range(1, 5, 1), range(32, 544, 32))"
   ]
  }
 ],
 "metadata": {
  "interpreter": {
   "hash": "470a464d1fef3d0321c3e4ce0a475abf6e9ab01fd88d68f47ab5430bb3fbc4c0"
  },
  "kernelspec": {
   "display_name": "asr_nlp",
   "language": "python",
   "name": "asr_nlp"
  },
  "language_info": {
   "codemirror_mode": {
    "name": "ipython",
    "version": 3
   },
   "file_extension": ".py",
   "mimetype": "text/x-python",
   "name": "python",
   "nbconvert_exporter": "python",
   "pygments_lexer": "ipython3",
   "version": "3.7.11"
  }
 },
 "nbformat": 4,
 "nbformat_minor": 5
}
